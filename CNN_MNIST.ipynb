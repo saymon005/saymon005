{
  "nbformat": 4,
  "nbformat_minor": 0,
  "metadata": {
    "colab": {
      "provenance": [],
      "gpuType": "T4",
      "authorship_tag": "ABX9TyOMUfs62ngQWLBbtsA1ii7U",
      "include_colab_link": true
    },
    "kernelspec": {
      "name": "python3",
      "display_name": "Python 3"
    },
    "language_info": {
      "name": "python"
    },
    "accelerator": "GPU",
    "gpuClass": "standard"
  },
  "cells": [
    {
      "cell_type": "markdown",
      "metadata": {
        "id": "view-in-github",
        "colab_type": "text"
      },
      "source": [
        "<a href=\"https://colab.research.google.com/github/saymon005/saymon005/blob/main/CNN_MNIST.ipynb\" target=\"_parent\"><img src=\"https://colab.research.google.com/assets/colab-badge.svg\" alt=\"Open In Colab\"/></a>"
      ]
    },
    {
      "cell_type": "code",
      "execution_count": 35,
      "metadata": {
        "id": "YZMS6zmkEGm_"
      },
      "outputs": [],
      "source": [
        "import torch\n",
        "import matplotlib.pyplot as plt\n",
        "import torch.nn as nn\n",
        "from torch.utils.data import DataLoader\n",
        "from torch import optim\n",
        "from torchsummary import summary"
      ]
    },
    {
      "cell_type": "code",
      "source": [
        "# Device configuration\n",
        "device = torch.device('cuda' if torch.cuda.is_available() else 'cpu')\n",
        "device"
      ],
      "metadata": {
        "colab": {
          "base_uri": "https://localhost:8080/"
        },
        "id": "robS4tkFEQOU",
        "outputId": "9a841197-2c3d-4317-840a-232d47964a2c"
      },
      "execution_count": 2,
      "outputs": [
        {
          "output_type": "execute_result",
          "data": {
            "text/plain": [
              "device(type='cuda')"
            ]
          },
          "metadata": {},
          "execution_count": 2
        }
      ]
    },
    {
      "cell_type": "code",
      "source": [
        "from torchvision import datasets\n",
        "from torchvision.transforms import ToTensor\n",
        "train_data = datasets.MNIST(\n",
        "    root = 'data',\n",
        "    train = True,                         \n",
        "    transform = ToTensor(), \n",
        "    download = True,            \n",
        ")\n",
        "test_data = datasets.MNIST(\n",
        "    root = 'data', \n",
        "    train = False, \n",
        "    transform = ToTensor()\n",
        ")\n"
      ],
      "metadata": {
        "colab": {
          "base_uri": "https://localhost:8080/"
        },
        "id": "Psga5eiDEe2D",
        "outputId": "1aeb00ad-f955-423e-ddb3-02f2bf95a15d"
      },
      "execution_count": 3,
      "outputs": [
        {
          "output_type": "stream",
          "name": "stdout",
          "text": [
            "Downloading http://yann.lecun.com/exdb/mnist/train-images-idx3-ubyte.gz\n",
            "Downloading http://yann.lecun.com/exdb/mnist/train-images-idx3-ubyte.gz to data/MNIST/raw/train-images-idx3-ubyte.gz\n"
          ]
        },
        {
          "output_type": "stream",
          "name": "stderr",
          "text": [
            "100%|██████████| 9912422/9912422 [00:00<00:00, 103810812.23it/s]\n"
          ]
        },
        {
          "output_type": "stream",
          "name": "stdout",
          "text": [
            "Extracting data/MNIST/raw/train-images-idx3-ubyte.gz to data/MNIST/raw\n",
            "\n",
            "Downloading http://yann.lecun.com/exdb/mnist/train-labels-idx1-ubyte.gz\n",
            "Downloading http://yann.lecun.com/exdb/mnist/train-labels-idx1-ubyte.gz to data/MNIST/raw/train-labels-idx1-ubyte.gz\n"
          ]
        },
        {
          "output_type": "stream",
          "name": "stderr",
          "text": [
            "100%|██████████| 28881/28881 [00:00<00:00, 112162679.47it/s]\n"
          ]
        },
        {
          "output_type": "stream",
          "name": "stdout",
          "text": [
            "Extracting data/MNIST/raw/train-labels-idx1-ubyte.gz to data/MNIST/raw\n",
            "\n",
            "Downloading http://yann.lecun.com/exdb/mnist/t10k-images-idx3-ubyte.gz\n",
            "Downloading http://yann.lecun.com/exdb/mnist/t10k-images-idx3-ubyte.gz to data/MNIST/raw/t10k-images-idx3-ubyte.gz\n"
          ]
        },
        {
          "output_type": "stream",
          "name": "stderr",
          "text": [
            "100%|██████████| 1648877/1648877 [00:00<00:00, 26158311.70it/s]\n"
          ]
        },
        {
          "output_type": "stream",
          "name": "stdout",
          "text": [
            "Extracting data/MNIST/raw/t10k-images-idx3-ubyte.gz to data/MNIST/raw\n",
            "\n",
            "Downloading http://yann.lecun.com/exdb/mnist/t10k-labels-idx1-ubyte.gz\n",
            "Downloading http://yann.lecun.com/exdb/mnist/t10k-labels-idx1-ubyte.gz to data/MNIST/raw/t10k-labels-idx1-ubyte.gz\n"
          ]
        },
        {
          "output_type": "stream",
          "name": "stderr",
          "text": [
            "100%|██████████| 4542/4542 [00:00<00:00, 4081090.14it/s]\n"
          ]
        },
        {
          "output_type": "stream",
          "name": "stdout",
          "text": [
            "Extracting data/MNIST/raw/t10k-labels-idx1-ubyte.gz to data/MNIST/raw\n",
            "\n"
          ]
        }
      ]
    },
    {
      "cell_type": "code",
      "source": [
        "print(train_data)"
      ],
      "metadata": {
        "colab": {
          "base_uri": "https://localhost:8080/"
        },
        "id": "NebkT6vbE1_x",
        "outputId": "559e3f3b-ae87-41d1-c0e6-40ad4beec45b"
      },
      "execution_count": 4,
      "outputs": [
        {
          "output_type": "stream",
          "name": "stdout",
          "text": [
            "Dataset MNIST\n",
            "    Number of datapoints: 60000\n",
            "    Root location: data\n",
            "    Split: Train\n",
            "    StandardTransform\n",
            "Transform: ToTensor()\n"
          ]
        }
      ]
    },
    {
      "cell_type": "code",
      "source": [
        "print(test_data)"
      ],
      "metadata": {
        "colab": {
          "base_uri": "https://localhost:8080/"
        },
        "id": "071hZ15iE5-6",
        "outputId": "5b14595e-8d89-453d-c743-5f7a7b07abd5"
      },
      "execution_count": 5,
      "outputs": [
        {
          "output_type": "stream",
          "name": "stdout",
          "text": [
            "Dataset MNIST\n",
            "    Number of datapoints: 10000\n",
            "    Root location: data\n",
            "    Split: Test\n",
            "    StandardTransform\n",
            "Transform: ToTensor()\n"
          ]
        }
      ]
    },
    {
      "cell_type": "code",
      "source": [
        "print(train_data.data.size())"
      ],
      "metadata": {
        "colab": {
          "base_uri": "https://localhost:8080/"
        },
        "id": "llY0CCo_E9O6",
        "outputId": "98a2f68a-6620-4906-b39b-2481e05b1596"
      },
      "execution_count": 6,
      "outputs": [
        {
          "output_type": "stream",
          "name": "stdout",
          "text": [
            "torch.Size([60000, 28, 28])\n"
          ]
        }
      ]
    },
    {
      "cell_type": "code",
      "source": [
        "print(train_data.targets.size())"
      ],
      "metadata": {
        "colab": {
          "base_uri": "https://localhost:8080/"
        },
        "id": "3y-qDl9CFEKa",
        "outputId": "6ed7f728-7357-4dc8-e7d5-068151baf589"
      },
      "execution_count": 7,
      "outputs": [
        {
          "output_type": "stream",
          "name": "stdout",
          "text": [
            "torch.Size([60000])\n"
          ]
        }
      ]
    },
    {
      "cell_type": "code",
      "source": [
        "print(test_data.data.size())"
      ],
      "metadata": {
        "colab": {
          "base_uri": "https://localhost:8080/"
        },
        "id": "68oboVxMFMJy",
        "outputId": "da0d40c5-32c3-427e-8300-f7ad887f668f"
      },
      "execution_count": 8,
      "outputs": [
        {
          "output_type": "stream",
          "name": "stdout",
          "text": [
            "torch.Size([10000, 28, 28])\n"
          ]
        }
      ]
    },
    {
      "cell_type": "code",
      "source": [
        "print(test_data.targets.size())"
      ],
      "metadata": {
        "colab": {
          "base_uri": "https://localhost:8080/"
        },
        "id": "VFZYYTsZFU1C",
        "outputId": "1a2fa74a-bc6b-45e1-b51e-7dbe23c738e3"
      },
      "execution_count": 9,
      "outputs": [
        {
          "output_type": "stream",
          "name": "stdout",
          "text": [
            "torch.Size([10000])\n"
          ]
        }
      ]
    },
    {
      "cell_type": "code",
      "source": [
        "plt.imshow(train_data.data[0], cmap='gray')\n",
        "plt.title('%i' % train_data.targets[0])\n",
        "plt.show()"
      ],
      "metadata": {
        "colab": {
          "base_uri": "https://localhost:8080/",
          "height": 452
        },
        "id": "ir9q1lk5FbAK",
        "outputId": "6e69891e-106e-4697-f41d-277bc7e2d7f4"
      },
      "execution_count": 11,
      "outputs": [
        {
          "output_type": "display_data",
          "data": {
            "text/plain": [
              "<Figure size 640x480 with 1 Axes>"
            ],
            "image/png": "[encoded data removed]"
          },
          "metadata": {}
        }
      ]
    },
    {
      "cell_type": "code",
      "source": [
        "figure = plt.figure(figsize=(10, 8))\n",
        "cols, rows = 5, 5\n",
        "for i in range(1, cols * rows + 1):\n",
        "    sample_idx = torch.randint(len(train_data), size=(1,)).item()\n",
        "    img, label = train_data[sample_idx]\n",
        "    figure.add_subplot(rows, cols, i)\n",
        "    plt.title(label)\n",
        "    plt.axis(\"off\")\n",
        "    plt.imshow(img.squeeze(), cmap=\"gray\")\n",
        "plt.show()"
      ],
      "metadata": {
        "colab": {
          "base_uri": "https://localhost:8080/",
          "height": 675
        },
        "id": "-RzUsMdRFnRK",
        "outputId": "ec8ea6f0-df16-44e7-eb31-54fdcd35d89f"
      },
      "execution_count": 12,
      "outputs": [
        {
          "output_type": "display_data",
          "data": {
            "text/plain": [
              "<Figure size 1000x800 with 25 Axes>"
            ],
            "image/png": "[encoded data removed]"
          },
          "metadata": {}
        }
      ]
    },
    {
      "cell_type": "code",
      "source": [
        "loaders = {\n",
        "    'train' : torch.utils.data.DataLoader(train_data, \n",
        "                                          batch_size=100, \n",
        "                                          shuffle=True, \n",
        "                                          num_workers=1),\n",
        "    \n",
        "    'test'  : torch.utils.data.DataLoader(test_data, \n",
        "                                          batch_size=100, \n",
        "                                          shuffle=True, \n",
        "                                          num_workers=1),\n",
        "}\n",
        "loaders"
      ],
      "metadata": {
        "colab": {
          "base_uri": "https://localhost:8080/"
        },
        "id": "F7opb0t0FuEM",
        "outputId": "d4a54317-343e-4db5-db4b-83836fe50648"
      },
      "execution_count": 14,
      "outputs": [
        {
          "output_type": "execute_result",
          "data": {
            "text/plain": [
              "{'train': <torch.utils.data.dataloader.DataLoader at 0x7fb22acdb730>,\n",
              " 'test': <torch.utils.data.dataloader.DataLoader at 0x7fb22acdb700>}"
            ]
          },
          "metadata": {},
          "execution_count": 14
        }
      ]
    },
    {
      "cell_type": "code",
      "source": [
        "class CNN(nn.Module):\n",
        "    def __init__(self):\n",
        "        super(CNN, self).__init__()\n",
        "        self.conv1 = nn.Sequential(         \n",
        "            nn.Conv2d(\n",
        "                in_channels=1,              \n",
        "                out_channels=16,            \n",
        "                kernel_size=5,              \n",
        "                stride=1,                   \n",
        "                padding=2,                  \n",
        "            ),                              \n",
        "            nn.ReLU(),                      \n",
        "            nn.MaxPool2d(kernel_size=2),    \n",
        "        )\n",
        "        self.conv2 = nn.Sequential(         \n",
        "            nn.Conv2d(16, 32, 5, 1, 2),     \n",
        "            nn.ReLU(),                      \n",
        "            nn.MaxPool2d(2),                \n",
        "        )\n",
        "        # fully connected layer, output 10 classes\n",
        "        self.out = nn.Linear(32 * 7 * 7, 10)\n",
        "    def forward(self, x):\n",
        "        x = self.conv1(x)\n",
        "        x = self.conv2(x)\n",
        "        # flatten the output of conv2 to (batch_size, 32 * 7 * 7)\n",
        "        x = x.view(x.size(0), -1)       \n",
        "        output = self.out(x)\n",
        "        return output, x    # return x for visualization     "
      ],
      "metadata": {
        "id": "5wh_TPeKHAuN"
      },
      "execution_count": 40,
      "outputs": []
    },
    {
      "cell_type": "code",
      "source": [
        "cnn = CNN()\n",
        "print(cnn)"
      ],
      "metadata": {
        "colab": {
          "base_uri": "https://localhost:8080/"
        },
        "id": "YJKGdq3WHFdD",
        "outputId": "89766d56-b0fe-4e09-c5af-6c7eeac667b3"
      },
      "execution_count": 17,
      "outputs": [
        {
          "output_type": "stream",
          "name": "stdout",
          "text": [
            "CNN(\n",
            "  (conv1): Sequential(\n",
            "    (0): Conv2d(1, 16, kernel_size=(5, 5), stride=(1, 1), padding=(2, 2))\n",
            "    (1): ReLU()\n",
            "    (2): MaxPool2d(kernel_size=2, stride=2, padding=0, dilation=1, ceil_mode=False)\n",
            "  )\n",
            "  (conv2): Sequential(\n",
            "    (0): Conv2d(16, 32, kernel_size=(5, 5), stride=(1, 1), padding=(2, 2))\n",
            "    (1): ReLU()\n",
            "    (2): MaxPool2d(kernel_size=2, stride=2, padding=0, dilation=1, ceil_mode=False)\n",
            "  )\n",
            "  (out): Linear(in_features=1568, out_features=10, bias=True)\n",
            ")\n"
          ]
        }
      ]
    },
    {
      "cell_type": "code",
      "source": [
        "loss_func = nn.CrossEntropyLoss()   \n",
        "loss_func"
      ],
      "metadata": {
        "colab": {
          "base_uri": "https://localhost:8080/"
        },
        "id": "Bet-jWBnHMuz",
        "outputId": "6ebc985a-c8fd-44aa-a430-65a8451971ff"
      },
      "execution_count": 41,
      "outputs": [
        {
          "output_type": "execute_result",
          "data": {
            "text/plain": [
              "CrossEntropyLoss()"
            ]
          },
          "metadata": {},
          "execution_count": 41
        }
      ]
    },
    {
      "cell_type": "code",
      "source": [
        "optimizer = optim.Adam(cnn.parameters(), lr = 0.01)   \n",
        "optimizer"
      ],
      "metadata": {
        "colab": {
          "base_uri": "https://localhost:8080/"
        },
        "id": "CYiwWF3OHRl7",
        "outputId": "b794af51-0fe7-433b-a9ed-5196209f8e8b"
      },
      "execution_count": 20,
      "outputs": [
        {
          "output_type": "execute_result",
          "data": {
            "text/plain": [
              "Adam (\n",
              "Parameter Group 0\n",
              "    amsgrad: False\n",
              "    betas: (0.9, 0.999)\n",
              "    capturable: False\n",
              "    differentiable: False\n",
              "    eps: 1e-08\n",
              "    foreach: None\n",
              "    fused: None\n",
              "    lr: 0.01\n",
              "    maximize: False\n",
              "    weight_decay: 0\n",
              ")"
            ]
          },
          "metadata": {},
          "execution_count": 20
        }
      ]
    },
    {
      "cell_type": "code",
      "source": [
        "from torch.autograd import Variable\n",
        "num_epochs = 10\n",
        "def train(num_epochs, cnn, loaders):\n",
        "    \n",
        "    cnn.train()\n",
        "        \n",
        "    # Train the model\n",
        "    total_step = len(loaders['train'])\n",
        "        \n",
        "    for epoch in range(num_epochs):\n",
        "        for i, (images, labels) in enumerate(loaders['train']):\n",
        "            \n",
        "            # gives batch data, normalize x when iterate train_loader\n",
        "            b_x = Variable(images)   # batch x\n",
        "            b_y = Variable(labels)   # batch y\n",
        "            output = cnn(b_x)[0]\n",
        "            loss = loss_func(output, b_y)\n",
        "            \n",
        "            # clear gradients for this training step   \n",
        "            optimizer.zero_grad()           \n",
        "            \n",
        "            # backpropagation, compute gradients \n",
        "            loss.backward()    \n",
        "            # apply gradients             \n",
        "            optimizer.step()                \n",
        "            \n",
        "            if (i+1) % 100 == 0:\n",
        "                print ('Epoch [{}/{}], Step [{}/{}], Loss: {:.4f}' \n",
        "                       .format(epoch + 1, num_epochs, i + 1, total_step, loss.item()))\n",
        "                pass\n",
        "        \n",
        "        pass\n",
        "    \n",
        "    \n",
        "    pass\n",
        "train(num_epochs, cnn, loaders)"
      ],
      "metadata": {
        "colab": {
          "base_uri": "https://localhost:8080/"
        },
        "id": "3--NY5adH2Sb",
        "outputId": "7ac8f3e6-3b52-42c7-81a3-689f05aadaa4"
      },
      "execution_count": 33,
      "outputs": [
        {
          "output_type": "stream",
          "name": "stdout",
          "text": [
            "Epoch [1/10], Step [100/600], Loss: 0.3312\n",
            "Epoch [1/10], Step [200/600], Loss: 0.3256\n",
            "Epoch [1/10], Step [300/600], Loss: 0.0588\n",
            "Epoch [1/10], Step [400/600], Loss: 0.0336\n",
            "Epoch [1/10], Step [500/600], Loss: 0.2203\n",
            "Epoch [1/10], Step [600/600], Loss: 0.0663\n",
            "Epoch [2/10], Step [100/600], Loss: 0.0144\n",
            "Epoch [2/10], Step [200/600], Loss: 0.0170\n",
            "Epoch [2/10], Step [300/600], Loss: 0.1082\n",
            "Epoch [2/10], Step [400/600], Loss: 0.1001\n",
            "Epoch [2/10], Step [500/600], Loss: 0.1209\n",
            "Epoch [2/10], Step [600/600], Loss: 0.1238\n",
            "Epoch [3/10], Step [100/600], Loss: 0.0909\n",
            "Epoch [3/10], Step [200/600], Loss: 0.0598\n",
            "Epoch [3/10], Step [300/600], Loss: 0.0105\n",
            "Epoch [3/10], Step [400/600], Loss: 0.0241\n",
            "Epoch [3/10], Step [500/600], Loss: 0.0219\n",
            "Epoch [3/10], Step [600/600], Loss: 0.0212\n",
            "Epoch [4/10], Step [100/600], Loss: 0.0635\n",
            "Epoch [4/10], Step [200/600], Loss: 0.1530\n",
            "Epoch [4/10], Step [300/600], Loss: 0.0963\n",
            "Epoch [4/10], Step [400/600], Loss: 0.0209\n",
            "Epoch [4/10], Step [500/600], Loss: 0.0770\n",
            "Epoch [4/10], Step [600/600], Loss: 0.1828\n",
            "Epoch [5/10], Step [100/600], Loss: 0.0294\n",
            "Epoch [5/10], Step [200/600], Loss: 0.0277\n",
            "Epoch [5/10], Step [300/600], Loss: 0.0179\n",
            "Epoch [5/10], Step [400/600], Loss: 0.0738\n",
            "Epoch [5/10], Step [500/600], Loss: 0.0406\n",
            "Epoch [5/10], Step [600/600], Loss: 0.0620\n",
            "Epoch [6/10], Step [100/600], Loss: 0.0038\n",
            "Epoch [6/10], Step [200/600], Loss: 0.0982\n",
            "Epoch [6/10], Step [300/600], Loss: 0.0599\n",
            "Epoch [6/10], Step [400/600], Loss: 0.0340\n",
            "Epoch [6/10], Step [500/600], Loss: 0.0558\n",
            "Epoch [6/10], Step [600/600], Loss: 0.0960\n",
            "Epoch [7/10], Step [100/600], Loss: 0.0421\n",
            "Epoch [7/10], Step [200/600], Loss: 0.1192\n",
            "Epoch [7/10], Step [300/600], Loss: 0.0431\n",
            "Epoch [7/10], Step [400/600], Loss: 0.0469\n",
            "Epoch [7/10], Step [500/600], Loss: 0.1686\n",
            "Epoch [7/10], Step [600/600], Loss: 0.0633\n",
            "Epoch [8/10], Step [100/600], Loss: 0.0168\n",
            "Epoch [8/10], Step [200/600], Loss: 0.0227\n",
            "Epoch [8/10], Step [300/600], Loss: 0.0237\n",
            "Epoch [8/10], Step [400/600], Loss: 0.0548\n",
            "Epoch [8/10], Step [500/600], Loss: 0.1148\n",
            "Epoch [8/10], Step [600/600], Loss: 0.2384\n",
            "Epoch [9/10], Step [100/600], Loss: 0.0171\n",
            "Epoch [9/10], Step [200/600], Loss: 0.0262\n",
            "Epoch [9/10], Step [300/600], Loss: 0.0173\n",
            "Epoch [9/10], Step [400/600], Loss: 0.0443\n",
            "Epoch [9/10], Step [500/600], Loss: 0.0233\n",
            "Epoch [9/10], Step [600/600], Loss: 0.0101\n",
            "Epoch [10/10], Step [100/600], Loss: 0.0624\n",
            "Epoch [10/10], Step [200/600], Loss: 0.0027\n",
            "Epoch [10/10], Step [300/600], Loss: 0.0217\n",
            "Epoch [10/10], Step [400/600], Loss: 0.0231\n",
            "Epoch [10/10], Step [500/600], Loss: 0.1332\n",
            "Epoch [10/10], Step [600/600], Loss: 0.0166\n"
          ]
        }
      ]
    },
    {
      "cell_type": "code",
      "source": [
        "def test():\n",
        "    # Test the model\n",
        "    cnn.eval()\n",
        "    with torch.no_grad():\n",
        "        correct = 0\n",
        "        total = 0\n",
        "        for images, labels in loaders['test']:\n",
        "            test_output, last_layer = cnn(images)\n",
        "            pred_y = torch.max(test_output, 1)[1].data.squeeze()\n",
        "            accuracy = (pred_y == labels).sum().item() / float(labels.size(0))\n",
        "            pass\n",
        "            print('Test Accuracy of the model on the 10000 test images: %.2f' % accuracy)\n",
        "pass\n",
        "test()"
      ],
      "metadata": {
        "colab": {
          "base_uri": "https://localhost:8080/"
        },
        "id": "XCLc0uLJJwlD",
        "outputId": "f397ba6b-4778-4439-a1ea-10ab6e029afe"
      },
      "execution_count": 37,
      "outputs": [
        {
          "output_type": "stream",
          "name": "stdout",
          "text": [
            "Test Accuracy of the model on the 10000 test images: 0.99\n",
            "Test Accuracy of the model on the 10000 test images: 0.98\n",
            "Test Accuracy of the model on the 10000 test images: 0.96\n",
            "Test Accuracy of the model on the 10000 test images: 0.96\n",
            "Test Accuracy of the model on the 10000 test images: 0.93\n",
            "Test Accuracy of the model on the 10000 test images: 1.00\n",
            "Test Accuracy of the model on the 10000 test images: 0.97\n",
            "Test Accuracy of the model on the 10000 test images: 0.96\n",
            "Test Accuracy of the model on the 10000 test images: 0.96\n",
            "Test Accuracy of the model on the 10000 test images: 0.97\n",
            "Test Accuracy of the model on the 10000 test images: 0.98\n",
            "Test Accuracy of the model on the 10000 test images: 0.98\n",
            "Test Accuracy of the model on the 10000 test images: 0.98\n",
            "Test Accuracy of the model on the 10000 test images: 0.97\n",
            "Test Accuracy of the model on the 10000 test images: 0.98\n",
            "Test Accuracy of the model on the 10000 test images: 1.00\n",
            "Test Accuracy of the model on the 10000 test images: 0.99\n",
            "Test Accuracy of the model on the 10000 test images: 0.99\n",
            "Test Accuracy of the model on the 10000 test images: 0.97\n",
            "Test Accuracy of the model on the 10000 test images: 0.98\n",
            "Test Accuracy of the model on the 10000 test images: 0.99\n",
            "Test Accuracy of the model on the 10000 test images: 0.94\n",
            "Test Accuracy of the model on the 10000 test images: 0.97\n",
            "Test Accuracy of the model on the 10000 test images: 0.97\n",
            "Test Accuracy of the model on the 10000 test images: 0.96\n",
            "Test Accuracy of the model on the 10000 test images: 1.00\n",
            "Test Accuracy of the model on the 10000 test images: 0.98\n",
            "Test Accuracy of the model on the 10000 test images: 0.98\n",
            "Test Accuracy of the model on the 10000 test images: 0.93\n",
            "Test Accuracy of the model on the 10000 test images: 1.00\n",
            "Test Accuracy of the model on the 10000 test images: 0.99\n",
            "Test Accuracy of the model on the 10000 test images: 0.95\n",
            "Test Accuracy of the model on the 10000 test images: 0.97\n",
            "Test Accuracy of the model on the 10000 test images: 0.99\n",
            "Test Accuracy of the model on the 10000 test images: 0.99\n",
            "Test Accuracy of the model on the 10000 test images: 0.97\n",
            "Test Accuracy of the model on the 10000 test images: 0.98\n",
            "Test Accuracy of the model on the 10000 test images: 0.99\n",
            "Test Accuracy of the model on the 10000 test images: 1.00\n",
            "Test Accuracy of the model on the 10000 test images: 0.98\n",
            "Test Accuracy of the model on the 10000 test images: 1.00\n",
            "Test Accuracy of the model on the 10000 test images: 0.98\n",
            "Test Accuracy of the model on the 10000 test images: 1.00\n",
            "Test Accuracy of the model on the 10000 test images: 0.98\n",
            "Test Accuracy of the model on the 10000 test images: 0.99\n",
            "Test Accuracy of the model on the 10000 test images: 0.98\n",
            "Test Accuracy of the model on the 10000 test images: 0.99\n",
            "Test Accuracy of the model on the 10000 test images: 0.98\n",
            "Test Accuracy of the model on the 10000 test images: 0.95\n",
            "Test Accuracy of the model on the 10000 test images: 0.97\n",
            "Test Accuracy of the model on the 10000 test images: 0.97\n",
            "Test Accuracy of the model on the 10000 test images: 0.97\n",
            "Test Accuracy of the model on the 10000 test images: 0.96\n",
            "Test Accuracy of the model on the 10000 test images: 0.99\n",
            "Test Accuracy of the model on the 10000 test images: 0.99\n",
            "Test Accuracy of the model on the 10000 test images: 0.95\n",
            "Test Accuracy of the model on the 10000 test images: 0.99\n",
            "Test Accuracy of the model on the 10000 test images: 0.98\n",
            "Test Accuracy of the model on the 10000 test images: 1.00\n",
            "Test Accuracy of the model on the 10000 test images: 1.00\n",
            "Test Accuracy of the model on the 10000 test images: 0.99\n",
            "Test Accuracy of the model on the 10000 test images: 0.98\n",
            "Test Accuracy of the model on the 10000 test images: 0.99\n",
            "Test Accuracy of the model on the 10000 test images: 0.97\n",
            "Test Accuracy of the model on the 10000 test images: 0.99\n",
            "Test Accuracy of the model on the 10000 test images: 0.97\n",
            "Test Accuracy of the model on the 10000 test images: 0.98\n",
            "Test Accuracy of the model on the 10000 test images: 0.97\n",
            "Test Accuracy of the model on the 10000 test images: 0.95\n",
            "Test Accuracy of the model on the 10000 test images: 0.95\n",
            "Test Accuracy of the model on the 10000 test images: 0.98\n",
            "Test Accuracy of the model on the 10000 test images: 0.99\n",
            "Test Accuracy of the model on the 10000 test images: 0.99\n",
            "Test Accuracy of the model on the 10000 test images: 0.99\n",
            "Test Accuracy of the model on the 10000 test images: 0.99\n",
            "Test Accuracy of the model on the 10000 test images: 0.95\n",
            "Test Accuracy of the model on the 10000 test images: 1.00\n",
            "Test Accuracy of the model on the 10000 test images: 0.97\n",
            "Test Accuracy of the model on the 10000 test images: 0.99\n",
            "Test Accuracy of the model on the 10000 test images: 0.97\n",
            "Test Accuracy of the model on the 10000 test images: 0.98\n",
            "Test Accuracy of the model on the 10000 test images: 0.99\n",
            "Test Accuracy of the model on the 10000 test images: 0.98\n",
            "Test Accuracy of the model on the 10000 test images: 0.97\n",
            "Test Accuracy of the model on the 10000 test images: 0.99\n",
            "Test Accuracy of the model on the 10000 test images: 0.92\n",
            "Test Accuracy of the model on the 10000 test images: 0.98\n",
            "Test Accuracy of the model on the 10000 test images: 0.99\n",
            "Test Accuracy of the model on the 10000 test images: 0.99\n",
            "Test Accuracy of the model on the 10000 test images: 0.97\n",
            "Test Accuracy of the model on the 10000 test images: 0.99\n",
            "Test Accuracy of the model on the 10000 test images: 0.97\n",
            "Test Accuracy of the model on the 10000 test images: 0.99\n",
            "Test Accuracy of the model on the 10000 test images: 0.98\n",
            "Test Accuracy of the model on the 10000 test images: 0.99\n",
            "Test Accuracy of the model on the 10000 test images: 0.99\n",
            "Test Accuracy of the model on the 10000 test images: 0.99\n",
            "Test Accuracy of the model on the 10000 test images: 0.96\n",
            "Test Accuracy of the model on the 10000 test images: 0.98\n",
            "Test Accuracy of the model on the 10000 test images: 0.97\n"
          ]
        }
      ]
    },
    {
      "cell_type": "markdown",
      "source": [
        "Credit: https://medium.com/@nutanbhogendrasharma/pytorch-convolutional-neural-network-with-mnist-dataset-4e8a4265e118"
      ],
      "metadata": {
        "id": "tE8CcbT-MuKk"
      }
    }
  ]
}